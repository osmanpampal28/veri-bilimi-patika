{
 "cells": [
  {
   "cell_type": "markdown",
   "id": "8bc9fa1f",
   "metadata": {},
   "source": [
    "/*\n",
    "1- Bir listeyi düzleştiren (flatten) fonksiyon yazın. Elemanları birden çok katmanlı listelerden ([[3],2] gibi) oluşabileceği gibi, non-scalar verilerden de oluşabilir. Örnek olarak:\n",
    "\n",
    "input: [[1,'a',['cat'],2],[[[3]],'dog'],4,5]\n",
    "\n",
    "output: [1,'a','cat',2,3,'dog',4,5]\n",
    "\n",
    "2- Verilen listenin içindeki elemanları tersine döndüren bir fonksiyon yazın. Eğer listenin içindeki elemanlar da liste içeriyorsa onların elemanlarını da tersine döndürün. Örnek olarak:\n",
    "\n",
    "input: [[1, 2], [3, 4], [5, 6, 7]]\n",
    "\n",
    "output: [[[7, 6, 5], [4, 3], [2, 1]]\n",
    "*/"
   ]
  },
  {
   "cell_type": "markdown",
   "id": "8f3921a2",
   "metadata": {},
   "source": [
    "# 1"
   ]
  },
  {
   "cell_type": "code",
   "execution_count": 1,
   "id": "a670c3c5",
   "metadata": {},
   "outputs": [
    {
     "data": {
      "text/plain": [
       "[1, 'a', 'cat', 2, 3, 'dog', 4, 5]"
      ]
     },
     "execution_count": 1,
     "metadata": {},
     "output_type": "execute_result"
    }
   ],
   "source": [
    "def ac(liste_input, liste_output):\n",
    "#     for i in liste_input:\n",
    "#         if type(liste_input) == list:\n",
    "#             ac2(i, liste_output)\n",
    "#         else:\n",
    "#             liste_output.append(i)\n",
    "#     print(liste2)\n",
    "    for i in liste_input:\n",
    "        if type(i) == list:\n",
    "            ac(i, liste_output)\n",
    "        else:\n",
    "            liste_output.append(i)\n",
    "    #print(liste_output)\n",
    "    \n",
    "liste_input = [[1,'a',['cat'],2],[[[3]],'dog'],4,5]\n",
    "# print(type(liste_input))\n",
    "\n",
    "liste_output = []\n",
    "ac(liste_input, liste_output)\n",
    "liste_output"
   ]
  },
  {
   "cell_type": "markdown",
   "id": "06fcf175",
   "metadata": {},
   "source": [
    "# 2\n"
   ]
  },
  {
   "cell_type": "code",
   "execution_count": 13,
   "id": "8b148dae",
   "metadata": {},
   "outputs": [
    {
     "data": {
      "text/plain": [
       "[[7, 6, 5], [4, 3], [2, 1]]"
      ]
     },
     "execution_count": 13,
     "metadata": {},
     "output_type": "execute_result"
    }
   ],
   "source": [
    "def ters_cevir(liste):\n",
    "    if type(liste) == list:\n",
    "        liste.reverse()\n",
    "        for item in liste:\n",
    "            ters_cevir(item)\n",
    "    \n",
    "    \n",
    "liste2_input = [[1, 2], [3, 4], [5, 6, 7]]\n",
    "#liste2_input = [[1, 2], [3, 4], [5, 6, 7], [[10, 11]], [12, [13, 14]]]\n",
    "ters_cevir(liste2_input)\n",
    "liste2_input"
   ]
  }
 ],
 "metadata": {
  "kernelspec": {
   "display_name": "Python 3 (ipykernel)",
   "language": "python",
   "name": "python3"
  },
  "language_info": {
   "codemirror_mode": {
    "name": "ipython",
    "version": 3
   },
   "file_extension": ".py",
   "mimetype": "text/x-python",
   "name": "python",
   "nbconvert_exporter": "python",
   "pygments_lexer": "ipython3",
   "version": "3.9.7"
  }
 },
 "nbformat": 4,
 "nbformat_minor": 5
}
